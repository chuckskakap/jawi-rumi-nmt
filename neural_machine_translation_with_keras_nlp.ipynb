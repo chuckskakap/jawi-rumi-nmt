{
 "cells": [
  {
   "cell_type": "markdown",
   "metadata": {
    "id": "e9S9I6JopXbQ"
   },
   "source": [
    "# Jawi to Rumi translation with KerasNLP\n",
    "\n",
    "**Author:** [Abheesht Sharma](https://github.com/abheesht17/)<br>\n",
    "**Date created:** 2022/05/26<br>\n",
    "**Last modified:** 2022/12/21<br>\n",
    "**Description:** Use KerasNLP to train a sequence-to-sequence Transformer model on the machine translation task."
   ]
  },
  {
   "cell_type": "markdown",
   "metadata": {
    "id": "RGn8WYz6pXbY"
   },
   "source": [
    "## Introduction\n",
    "\n",
    "KerasNLP provides building blocks for NLP (model layers, tokenizers, metrics, etc.) and\n",
    "makes it convenient to construct NLP pipelines.\n",
    "\n",
    "In this example, we'll use KerasNLP layers to build an encoder-decoder Transformer\n",
    "model, and train it on the English-to-Spanish machine translation task.\n",
    "\n",
    "This example is based on the\n",
    "[English-to-Spanish NMT\n",
    "example](https://keras.io/examples/nlp/neural_machine_translation_with_transformer/)\n",
    "by [fchollet](https://twitter.com/fchollet). The original example is more low-level\n",
    "and implements layers from scratch, whereas this example uses KerasNLP to show\n",
    "some more advanced approaches, such as subword tokenization and using metrics\n",
    "to compute the quality of generated translations.\n",
    "\n",
    "You'll learn how to:\n",
    "\n",
    "- Tokenize text using `keras_nlp.tokenizers.WordPieceTokenizer`.\n",
    "- Implement a sequence-to-sequence Transformer model using KerasNLP's\n",
    "`keras_nlp.layers.TransformerEncoder`, `keras_nlp.layers.TransformerDecoder` and\n",
    "`keras_nlp.layers.TokenAndPositionEmbedding` layers, and train it.\n",
    "- Use `keras_nlp.samplers` to generate translations of unseen input sentences\n",
    " using the top-p decoding strategy!\n",
    "\n",
    "Don't worry if you aren't familiar with KerasNLP. This tutorial will start with\n",
    "the basics. Let's dive right in!"
   ]
  },
  {
   "cell_type": "markdown",
   "metadata": {
    "id": "tabcM0NOpXbZ"
   },
   "source": [
    "## Setup\n",
    "\n",
    "Before we start implementing the pipeline, let's import all the libraries we need."
   ]
  },
  {
   "cell_type": "code",
   "execution_count": 1,
   "metadata": {
    "id": "odBed2tDpXba"
   },
   "outputs": [
    {
     "data": {
      "text/plain": [
       "[]"
      ]
     },
     "execution_count": 1,
     "metadata": {},
     "output_type": "execute_result"
    }
   ],
   "source": [
    "!!pip install -q rouge-score\n",
    "!!pip install -q git+https://github.com/keras-team/keras-nlp.git --upgrade"
   ]
  },
  {
   "cell_type": "code",
   "execution_count": 2,
   "metadata": {
    "id": "ThVbJnw7pXbc"
   },
   "outputs": [
    {
     "name": "stdout",
     "output_type": "stream",
     "text": [
      "Using TensorFlow backend\n"
     ]
    }
   ],
   "source": [
    "import keras_nlp\n",
    "import pathlib\n",
    "import random\n",
    "import tensorflow as tf\n",
    "\n",
    "from tensorflow import keras\n",
    "from tensorflow_text.tools.wordpiece_vocab import (\n",
    "    bert_vocab_from_dataset as bert_vocab,\n",
    ")"
   ]
  },
  {
   "cell_type": "markdown",
   "metadata": {
    "id": "a-3_0SjXpXbd"
   },
   "source": [
    "Let's also define our parameters/hyperparameters."
   ]
  },
  {
   "cell_type": "code",
   "execution_count": 3,
   "metadata": {
    "id": "BdMVwPRspXbd"
   },
   "outputs": [],
   "source": [
    "BATCH_SIZE = 64\n",
    "EPOCHS = 10  # This should be at least 10 for convergence\n",
    "MAX_SEQUENCE_LENGTH = 40\n",
    "ENG_VOCAB_SIZE = 15000\n",
    "SPA_VOCAB_SIZE = 15000\n",
    "\n",
    "EMBED_DIM = 256\n",
    "INTERMEDIATE_DIM = 2048\n",
    "NUM_HEADS = 8"
   ]
  },
  {
   "cell_type": "markdown",
   "metadata": {
    "id": "48jMxV6vpXbf"
   },
   "source": [
    "## Downloading the data\n",
    "\n",
    "We'll be working with an English-to-Spanish translation dataset\n",
    "provided by [Anki](https://www.manythings.org/anki/). Let's download it:"
   ]
  },
  {
   "cell_type": "code",
   "execution_count": 4,
   "metadata": {
    "id": "7woPyWbqpXbf"
   },
   "outputs": [],
   "source": [
    "# text_file = keras.utils.get_file(\n",
    "#     fname=\"spa-eng.zip\",\n",
    "#     origin=\"http://storage.googleapis.com/download.tensorflow.org/data/spa-eng.zip\",\n",
    "#     extract=True,\n",
    "# )\n",
    "# text_file = \"spa.txt\"\n",
    "# text_file = \"rumi-jawi.txt\"\n",
    "text_file = \"jawi-rumi.txt\""
   ]
  },
  {
   "cell_type": "markdown",
   "metadata": {
    "id": "jVhxpNM5pXbg"
   },
   "source": [
    "## Parsing the data\n",
    "\n",
    "Each line contains an English sentence and its corresponding Spanish sentence.\n",
    "The English sentence is the *source sequence* and Spanish one is the *target sequence*.\n",
    "Before adding the text to a list, we convert it to lowercase."
   ]
  },
  {
   "cell_type": "code",
   "execution_count": 5,
   "metadata": {
    "id": "yfqpZf_OpXbg"
   },
   "outputs": [],
   "source": [
    "with open(text_file) as f:\n",
    "    lines = f.read().split(\"\\n\")[:-1]\n",
    "text_pairs = []\n",
    "for line in lines:\n",
    "    eng, spa = line.split(\"\\t\")\n",
    "    eng = eng.lower()\n",
    "    spa = spa.lower()\n",
    "    text_pairs.append((eng, spa))"
   ]
  },
  {
   "cell_type": "markdown",
   "metadata": {
    "id": "zZkT6sBBpXbh"
   },
   "source": [
    "Here's what our sentence pairs look like:"
   ]
  },
  {
   "cell_type": "code",
   "execution_count": 6,
   "metadata": {
    "id": "0OqPK8NJpXbh"
   },
   "outputs": [
    {
     "name": "stdout",
     "output_type": "stream",
     "text": [
      "('ستله باڽق كالي مليهت چندانا ممبتولكن لتق ڤاكاينڽ، دي ناءيق ريماس. ', ' setelah banyak kali melihat cendana membetulkan letak pakaiannya, dia naik rimas.')\n",
      "('سلوروه ديوان ترڬامام. ', ' seluruh dewan tergamam.')\n",
      "('مريک اخيرڽ اكور. ', ' mereka akhirnya akur.')\n",
      "('برتنڠ، انق مودا. ', ' bertenang, anak muda.')\n",
      "('دڠوسن كلوار دري روڠݢ هيدوڠ. ', ' dengusan keluar dari rongga hidung.')\n"
     ]
    }
   ],
   "source": [
    "for _ in range(5):\n",
    "    print(random.choice(text_pairs))"
   ]
  },
  {
   "cell_type": "markdown",
   "metadata": {
    "id": "c3a15TD2pXbh"
   },
   "source": [
    "Now, let's split the sentence pairs into a training set, a validation set,\n",
    "and a test set."
   ]
  },
  {
   "cell_type": "code",
   "execution_count": 7,
   "metadata": {
    "id": "IqfIArBZpXbi"
   },
   "outputs": [
    {
     "name": "stdout",
     "output_type": "stream",
     "text": [
      "13573 total pairs\n",
      "9503 training pairs\n",
      "2035 validation pairs\n",
      "2035 test pairs\n"
     ]
    }
   ],
   "source": [
    "random.shuffle(text_pairs)\n",
    "num_val_samples = int(0.15 * len(text_pairs))\n",
    "num_train_samples = len(text_pairs) - 2 * num_val_samples\n",
    "train_pairs = text_pairs[:num_train_samples]\n",
    "val_pairs = text_pairs[num_train_samples : num_train_samples + num_val_samples]\n",
    "test_pairs = text_pairs[num_train_samples + num_val_samples :]\n",
    "\n",
    "print(f\"{len(text_pairs)} total pairs\")\n",
    "print(f\"{len(train_pairs)} training pairs\")\n",
    "print(f\"{len(val_pairs)} validation pairs\")\n",
    "print(f\"{len(test_pairs)} test pairs\")\n"
   ]
  },
  {
   "cell_type": "markdown",
   "metadata": {
    "id": "8on4a7rGpXbi"
   },
   "source": [
    "## Tokenizing the data\n",
    "\n",
    "We'll define two tokenizers - one for the source language (English), and the other\n",
    "for the target language (Spanish). We'll be using\n",
    "`keras_nlp.tokenizers.WordPieceTokenizer` to tokenize the text.\n",
    "`keras_nlp.tokenizers.WordPieceTokenizer` takes a WordPiece vocabulary\n",
    "and has functions for tokenizing the text, and detokenizing sequences of tokens.\n",
    "\n",
    "Before we define the two tokenizers, we first need to train them on the dataset\n",
    "we have. The WordPiece tokenization algorithm is a subword tokenization algorithm;\n",
    "training it on a corpus gives us a vocabulary of subwords. A subword tokenizer\n",
    "is a compromise between word tokenizers (word tokenizers need very large\n",
    "vocabularies for good coverage of input words), and character tokenizers\n",
    "(characters don't really encode meaning like words do). Luckily, KerasNLP\n",
    "makes it very simple to train WordPiece on a corpus with the\n",
    "`keras_nlp.tokenizers.compute_word_piece_vocabulary` utility."
   ]
  },
  {
   "cell_type": "code",
   "execution_count": 8,
   "metadata": {
    "id": "dZr7WTFLpXbi"
   },
   "outputs": [],
   "source": [
    "\n",
    "def train_word_piece(text_samples, vocab_size, reserved_tokens):\n",
    "    word_piece_ds = tf.data.Dataset.from_tensor_slices(text_samples)\n",
    "    vocab = keras_nlp.tokenizers.compute_word_piece_vocabulary(\n",
    "        word_piece_ds.batch(1000).prefetch(2),\n",
    "        vocabulary_size=vocab_size,\n",
    "        reserved_tokens=reserved_tokens,\n",
    "    )\n",
    "    return vocab\n"
   ]
  },
  {
   "cell_type": "code",
   "execution_count": 66,
   "metadata": {},
   "outputs": [],
   "source": [
    "# train_word_piece()"
   ]
  },
  {
   "cell_type": "markdown",
   "metadata": {
    "id": "DM0OXRFIpXbi"
   },
   "source": [
    "Every vocabulary has a few special, reserved tokens. We have four such tokens:\n",
    "\n",
    "- `\"[PAD]\"` - Padding token. Padding tokens are appended to the input sequence\n",
    "length when the input sequence length is shorter than the maximum sequence length.\n",
    "- `\"[UNK]\"` - Unknown token.\n",
    "- `\"[START]\"` - Token that marks the start of the input sequence.\n",
    "- `\"[END]\"` - Token that marks the end of the input sequence."
   ]
  },
  {
   "cell_type": "code",
   "execution_count": 9,
   "metadata": {
    "id": "f8q4COi2pXbj"
   },
   "outputs": [],
   "source": [
    "reserved_tokens = [\"[PAD]\", \"[UNK]\", \"[START]\", \"[END]\"]\n",
    "\n",
    "eng_samples = [text_pair[0] for text_pair in train_pairs]\n",
    "eng_vocab = train_word_piece(eng_samples, ENG_VOCAB_SIZE, reserved_tokens)\n",
    "\n",
    "spa_samples = [text_pair[1] for text_pair in train_pairs]\n",
    "spa_vocab = train_word_piece(spa_samples, SPA_VOCAB_SIZE, reserved_tokens)"
   ]
  },
  {
   "cell_type": "code",
   "execution_count": 10,
   "metadata": {},
   "outputs": [
    {
     "name": "stdout",
     "output_type": "stream",
     "text": [
      "['[PAD]', '[UNK]', '[START]', '[END]', '!', ',', '-', '.', '0', '1', '2', '3', '4', '5', '6', '7', '8', '9', ':', ';', '?', 'a', 'b', 'c', 'd', 'e', 'f', 'g', 'h', 'i', 'j', 'k', 'l', 'm', 'n', 'o', 'p', 'q', 'r', 's', 't', 'u', 'v', 'w', 'y', 'z', '\\u2003', '‘', '’', 'yang', 'dan', 'itu', 'nirnama', '##nya', 'dia', 'tidak', 'di', 'dengan', 'aku', 'ke', 'engkau', 'mereka', 'ini', '##an', '##kan', 'untuk', 'akan', 'cendana', 'jagat', 'suci', 'nadim', '##i', 'kita', 'puteri', 'orang', 'telah', 'kepada', 'mahu', 'tuanku', 'tetapi', 'apa', 'lagi', '##ku', 'dari', 'alauddin', 'menjadi', 'adiwaja', 'sultan', 'dua', '##lah', 'lebih', 'tentera', 'dalam', 'tangan', 'ada', 'putih', 'mata', 'sudah', '##mu', 'pada', 'benar', 'tuha', 'hanya', 'daripada', 'semutar', 'tersebut', 'semua', 'jebat', 'arah', 'kemudian', 'sama', 'kalian', 'terus', 'bukan', 'tubuh', 'memandang', 'dapat', 'kembali', 'lelaki', 'besar', 'kerajaan', 'masih', 'satu', 'apakah', 'atas', '##a', '##t', 'tanah', '##h', 'melihat', 'sahaja', 'sedang', 'beberapa', 'pandangan', '##n', 'kami', 'kerana', 'jenin', 'diri', 'sebelum', 'gunung', '##u', '##r', 'berada', 'juga', 'allah', 'tiba', '##k', 'kayangan', 'sambil', 'bersama', 'wajah', 'mampu', 'jika', 'apabila', 'pula', 'santubong', 'kedua', 'raja', 'membuatkan', 'indera', '##ng', 'jelas', '##s', 'kakanda', 'sendiri', 'istana', 'hari', 'bahawa', 'tengah', '##at', 'bergerak', 'perlahan', 'manusia', 'seorang', 'tempat', '##l', 'masing', 'oleh', 'pantas', 'bagai', 'tanggang', 'hadapan', 'lama', 'pendekar', 'boleh', 'hati', 'tersenyum', 'sebagai', 'semakin', 'tanpa', 'mahmud', 'mungkin', 'bagaikan', 'perlu', 'serangan', 'ledang', 'kali', 'sang', 'seperti', 'mula', 'banyak', 'bagaimana', 'serawa', 'ketawa', 'maha', 'mengangguk', 'bagi', 'begitu', 'putera', 'keadaan', 'mansur', 'tahu', '##p', 'belakang', 'pak', 'sini', 'tubuhnya', 'sihir', 'lahan', 'mengangkat', 'masa', 'menggeleng', '##m', 'jin', 'ketika', 'adalah', 'guru', 'namun', 'ramai', 'senyuman', 'serapi', '##ah', 'tiada', 'tun', 'nirmala', 'sehingga', 'kaduk', 'keris', 'angin', 'panjang', 'baru', 'berdiri', 'deria', 'ong', 'perita', 'pun', 'cuba', 'sekarang', 'berdua', 'memberikan', 'suara', 'kasturi', 'nujum', 'tadi', 'bangkit', 'hah', 'maka', '##ak', 'belum', 'laksamana', 'sesuatu', 'tinggi', '##kah', 'baik', 'kelihatan', 'saat', 'budak', 'terlalu', 'berparut', 'buat', 'merupakan', 'pemerintah', 'segala', 'sekali', 'surya', 'anak', 'bersuara', 'kecil', 'mengapa', 'jauh', 'sisi', 'tua', 'kelembai', 'sekadar', 'cik', 'lain', 'berlaku', '##ran', 'darah', 'kaki', 'matanya', 'setiap', 'bahkan', 'hal', 'pernah', 'antara', 'atau', 'beta', 'hidup', 'kaya', 'perempuan', 'perkampungan', 'hampir', 'turut', '##ar', 'air', 'menarik', 'patik', 'sedikit', 'sejinjang', 'sempat', 'ampun', 'kain', 'kra', 'lawan', 'saling', 'segenting', 'si', 'ya', 'islam', 'jangan', 'sekitar', 'tiga', 'melepaskan', 'nafas', 'tangannya', 'bibir', 'kekal', 'kepala', 'kuat', 'nama', 'penuh', 'situ', 'wajahnya', '##uk', 'bumi', 'seluruh', 'senjata', 'setelah', 'berjaya', 'dirinya', 'sampai', 'pasti', 'pergi', 'tuan', 'dahi', 'jadi', 'semenjak', '##san', 'sekebun', 'serendah', '##am', '##as', '##ti', 'biasa', 'jatuh', 'kanan', 'kekuatan', 'rakyat', '##up', 'datang', 'kedengaran', 'mengelak', 'sering', 'tertawa', '##ut', 'semenanjung', 'bahtera', 'bicara', 'cepat', 'muncul', '##annya', '##uh', '##ya', 'awal', 'bahu', 'bendahara', 'hilang', 'nipis', 'dahulu', 'duanya', 'mana', 'membantu', 'membuka', 'tahun', '##jak', '##sa', '##ta', 'belah', 'kata', 'membawa', 'menghadap', 'nya', 'peluang', '##g', '##lan', '##rkan', 'agar', 'api', 'berhadapan', 'berusaha', 'durjana', 'jalan', 'keluar', 'sedemikian', 'sekiranya', 'solat', '##ga', '##ma', 'ayahanda', 'bagak', 'bawah', 'demikian', 'menumbangkan', 'srikandi', 'udara', '##al', '##ang', 'jalak', 'mencapai', 'perjalanan', 'silat', '##ian', '##skan', 'alam', 'bentala', 'dada', 'insan', 'kiri', 'mamanda', 'para', 'sebahagian', 'sebenarnya', 'tepat', 'turun', '##ik', '##na', 'berhenti', 'meninggalkan', 'menoleh', 'pokok', 'selama', 'tenang', 'yakin', '##akan', '##mat', 'kehadiran', 'malam', 'pertarungan', 'sebuah', 'sekeliling', 'serta', 'tersengih', 'utama', '##si', '##tan', '##ur', 'mati', 'pandangannya', 'sebelah', 'terhenti', 'tumbang', 'tumbukan', '##ai', 'berpakaian', 'bertarung', 'hadapannya', 'hakikatnya', 'hebat', 'memandangkan', 'menepuk', 'pertempuran', 'sebentar', '##ikan', '##man', '##nan', '##tkan', '##un', 'ah', 'ayat', 'baginda', 'kawasan', 'lebar', 'mari', 'sementara', 'tajam', '##b', '##kat', '##ong', '##ung', 'agama', 'berbanding', 'berpaling', 'cahaya', 'melakukan', 'rasa', 'salah', 'sari', 'taming', '##li', 'berani', 'bertemu', 'bertukar', 'hubungan', 'lalu', 'medan', 'melancarkan', 'membulat', 'menghantar', 'muda', 'panglima', 'tendangan', 'wilayah', '##erang', '##ni', 'akhirnya', 'awang', 'berbicara', 'bukankah', 'menerima', 'menyentuh', 'pahlawan', 'pulang', 'secara', 'siapa', 'usaha', '##bung', '##ja', '##ukan', 'berkerut', 'cukup', 'demi', 'ibu', 'kasih', 'melompat', 'mendapatkan', 'menggunakan', 'menyangka', 'musuh', 'pergerakan', 'rumah', '##ap', '##ka', '##pu', '##tu', 'angguk', 'berubah', 'ilmu', 'jiwa', 'menjadikan', 'pengawal', 'sana', 'sembah', 'terima', 'tuhan', 'bersedia', 'dilihat', 'haiwan', 'kampung', 'merasakan', 'mudah', 'mulut', 'pelabuhan', 'punya', 'suasana', 'syaitan', 'tambah', 'tetap', 'tindakan', 'tinggal', '##han', '##kap', '##us', 'fikir', 'hanyalah', 'itulah', 'jarum', 'kamit', 'mayat', 'memang', 'memenuhi', 'memerhatikan', 'mempunyai', 'mencelah', 'mendengar', 'naik', 'peperangan', 'ratu', 'sepanjang', 'seterusnya', 'terkejut', 'walau', 'walaupun', '##du', '##it', '##la', 'al', 'bahagian', 'betul', 'dunia', 'langit', 'laut', 'mengambil', 'menyebabkan', 'pakaian', 'semula', 'serba', 'tanda', 'tujuan', '##dung', '##erah', '##ok', '##ra', '##wan', 'amat', 'batu', 'berpandangan', 'hingga', 'kepadanya', 'kuda', 'langsung', 'lantai', 'meminta', 'mempamerkan', 'rupa', 'sebegini', 'sia', 'terkumat', 'urusan', '##dang', '##eru', '##ngan', '##pa', '##pan', '##ul', 'bakal', 'berkuasa', 'bertahan', 'hendak', 'kelebihan', 'kepadaku', 'lembut', 'lima', 'luar', 'menyerang', 'nyata', 'sangka', 'selepas', 'sentiasa', 'syarat', 'tok', 'ujong', 'ular', '##0', '##ek', '##ji', 'ayuh', 'duduk', 'hasil', 'menanti', 'menjaga', 'mujur', 'sebenar', 'segera', 'tangkas', 'telapak', 'terangguk', '##bat', '##gi', '##ri', 'ayam', 'belantara', 'celaka', 'kebenaran', 'melepasi', 'menghela', 'nyawa', 'riak', 'ruang', 'sekala', 'semuanya', 'terlebih', '##bak', '##lang', '##pun', 'adinda', 'bila', 'cinta', 'gua', 'gurunya', 'kakinya', 'laju', 'menunduk', 'tangga', '##bi', '##eri', '##gu', 'ahli', 'akibat', 'barisan', 'berhampiran', 'hadir', 'hitam', 'kepalanya', 'lakukan', 'melayang', 'menambah', 'menghalang', 'menolak', 'pemerintahan', 'perkara', 'pertama', 'quran', 'rombongan', 'sesiapa', 'wahai', 'wajar', 'waktu', '##ahkan', '##asa', '##da', '##ding', '##eh', '##ih', '##kkan', '##lam', 'bertiga', 'bertindak', 'bibirnya', 'buah', 'dengannya', 'gelap', 'hatta', 'indah', 'jari', 'langkah', 'langkahan', 'manakala', 'melangkah', 'menyatakan', 'perjuangan', 'perkasa', 'pinggang', 'redup', 'terakhir', 'terpaksa', '##bus', '##ela', '##is', '##kul', '##pak', '##uan', '##unkan', 'agak', 'berbuat', 'bukanlah', 'bunyi', 'ialah', 'kesaktian', 'masuk', 'menatap', 'mencari', 'mendarat', 'mengetahui', 'menyertai', 'penduduk', 'perhatian', 'sempadan', 'seraya', 'tawa', 'tebal', 'terpelanting', '##ari', '##asan', '##mur', '##ngkan', '##oh', '##pkan', 'arahnya', 'asap', 'batang', 'bergegar', 'berjalan', 'gabungan', 'kamu', 'kemenangan', 'kepadamu', 'melaung', 'membiarkan', 'menyambut', 'menyedari', 'mulutnya', 'perancangan', 'rakan', 'sangat', 'selendang', 'tak', 'telinga', 'tersentak', '##aga', '##ahir', '##dah', '##inya', '##ir', '##lakan', '##mbangkan', 'bantuan', 'bersiaga', 'berundur', 'gapura', 'kelak', 'kelapa', 'lengan', 'luas', 'manis', 'megah', 'melibas', 'meluru', 'membaca', 'memerhati', 'mendengus', 'mengembara', 'menjerit', 'merapati', 'muhammad', 'seakan', 'sebagaimana', 'serentak', 'tahap', 'tambahan', 'terangkat', 'terhadap', '##bang', '##eng', '##entang', '##esa', '##gan', '##jaga', '##jar', '##mbang', 'ancaman', 'bertanya', 'bertaut', 'cara', 'depa', 'ekor', 'hulubalang', 'jelata', 'khabar', 'menghampiri', 'mustahil', 'pemuda', 'penumbuk', 'perbualan', 'puncak', 'rendah', 'risau', 'rupawan', 'sekalian', 'sesungguhnya', 'suatu', 'terbuka', 'teruja', 'wa', '##anku', '##arkan', '##atan', '##ban', '##di', '##dikan', '##egak', '##gang', '##mah', '##ulang', 'berat', 'bertambah', 'debu', 'dendam', 'hajat', 'hujung', 'hulu', 'ibadah', 'jelita', 'kelam', 'ketiga', 'kuasa', 'memerlukan', 'mengeluarkan', 'menyerbu', 'paling', 'perasaan', 'sederhana', 'sesama', 'tenaga', 'terbaik', 'tewas', '##aan', '##aat', '##aya', '##ecah', '##gar', '##ikir', '##lu', '##nkan', '##pi', '##sai', '##sia', '##um', '##urus', 'apatah', 'balas', 'balik', 'bonda', 'erat', 'halaman', 'hamzah', 'hormat', 'kancil', 'kelewang', 'kisah', 'lautan', 'melaka', 'memastikan', 'memegang', 'mendapat', 'mengekori', 'pusat', 'rata', 'takut', 'tidur', 'tongkat', '##anya', '##bentuk', '##ena', '##jut', '##kannya', '##sok', '##tai', '##tikan', '##ting', '##uju', 'bebola', 'berlangsung', 'besi', 'betapa', 'diberikan', 'geraham', 'habis', 'inilah', 'jarang', 'kebiasaan', 'kini', 'macam', 'mangsa', 'masyhur', 'menentang', 'menewaskan', 'sakti', 'sebarang', 'siti', 'tunduk', '##aran', '##asi', '##bu', '##bunuh', '##cak', '##ci', '##d', '##dik', '##hunus', '##in', '##knya', '##lok', '##mbangan', '##mkan', '##sah', '##tut', '##uai', '##uhi', '##uluh', 'bau', 'berlari', 'bermakna', 'berseorangan', 'bilangan', 'biring', 'entah', 'ibarat', 'kecederaan', 'kesakitan', 'kunani', 'makanan', 'melebar', 'melemparkan', 'membalas', 'membasahi', 'membina', 'membuat', 'menggerakkan', 'menghiasi', 'menghilang', 'pinga', 'sahabat', 'sebab', 'senang', 'sepatutnya', 'seseorang', 'soalan', 'terbang', 'terpana', 'terpempan', 'terpinga', '##ahan', '##atkan', '##cam', '##elayan', '##epas', '##epaskan', '##ihan', '##puan', '##rat', 'akal', 'akhir', 'berjuang', 'berkenaan', 'bermula', 'bulan', 'bulatan', 'diam', 'gelanggang', 'hakikat', 'hatinya', 'izin', 'kekuasaan', 'kemungkinan', 'kurang', 'masanya', 'masjid', 'maut', 'memahami', 'membesar', 'membunuh', 'mempertahankan', 'menalakan', 'menepis', 'menerpa', 'meneruskan', 'mengubah', 'mengukir', 'menikmati', 'menjarakkan', 'mimpi', 'nafasnya', 'panah', 'pertembungan', 'pulai', 'rambut', 'sayembara', 'seni', 'sisinya', 'suka', 'tujuh', '##anda', '##asar', '##ayu', '##baikan', '##but', '##cabut', '##car', '##duk', '##ekat', '##empur', '##enai', '##enjara', '##erak', '##erdiam', '##hkan', '##ing', '##jian', '##kau', '##ki', '##kuda', '##luk', '##mpin', '##ngka', '##orak', '##oyak', '##pur', '##put', '##tnya', '##yaan', 'ankus', 'asal', 'banang', 'berakhir', 'berapa', 'berdekah', 'berdesir', 'beriman', 'berkait', 'berkepul', 'berkumpul', 'berputar', 'bersetuju', 'biarlah', 'daku', 'dekah', 'dihantar', 'gembira', 'hadiah', 'hamba', 'kabut', 'kagum', 'kehidupan', 'kenapa', 'kepul', 'makan', 'mara', 'memimpin', 'mendongak', 'mengawal', 'menguruskan', 'menunaikan', 'merah', 'parang', 'perasan', 'rapat', 'sebahagiannya', 'seekor', 'sekuat', 'selain', 'selamat', 'seminggu', 'senyap', 'seperguruannya', 'sepuluh', 'sinis', 'takhta', 'tatkala', 'teramat', 'terasa', 'teratak', 'terbelalak', 'terbenam', '##adaan', '##alam', '##bar', '##baran', '##barkan', '##buh', '##cing', '##ehat', '##eka', '##ekad', '##elai', '##elita', '##entak', '##erangan', '##erasa', '##gup', '##hat', '##hnya', '##hormat', '##id', '##ijak', '##ingan', '##iran', '##mpa', '##nakan', '##ombak', '##otong', '##pai', '##sangka', '##sarkan', '##taan', '##tah', '##tera', '##uti', 'angan', 'baju', 'bangun', 'banun', 'berfikir', 'bertenang', 'celah', 'dadanya', 'deruan', 'dibawa', 'gagal', 'jua', 'kalau', 'kanannya', 'kebanyakan', 'kemas', 'kencang', 'keras', 'kerisnya', 'kosong', 'kumpulan', 'lapangan', 'lemah', 'lihat', 'masyarakat', 'melarikan', 'melutut', 'memanjangkan', 'membenarkan', 'menahan', 'mendepangkan', 'menganggap', 'mengejar', 'mengerutkan', 'mengetap', 'menggambarkan', 'menghentam', 'menjemput', 'menyempurnakan', 'merta', 'pakaiannya', 'palang', 'pedagang', 'remang', 'rezeki', 'rongga', 'rupanya', 'sebaik', 'sekumpulan', 'senyum', 'sepenuh', 'seribu', 'sungai', 'takkan', 'tegang', 'termasuk', 'tidaklah', 'wah', 'warung', '##angga', '##awa', '##bakar', '##bil', '##dai', '##dak', '##elip', '##emah', '##embara', '##esan', '##gunakan', '##ilah', '##ira', '##jat', '##juk', '##lak', '##letakkan', '##lkan', '##mpar', '##ngkat', '##pat', '##pit', '##rang', '##tara', '##ulan', '##ulu', '##urah', '##usuk', '##wa', '##yarkan', 'alhamdulillah', 'anakanda', 'bagus', 'bahunya', 'berbincang', 'berguling', 'berita', 'berkelana', 'bersamamu', 'buruk', 'damar', 'denganku', 'deras', 'galak', 'garang', 'gerak', 'ingin', 'isteri', 'jahat', 'kalangan', 'kayu', 'kekayaan', 'keputusan', 'keringat', 'ketulan', 'leher', 'lutut', 'majlis', 'mampus', 'marak', 'meja', 'melalui', 'melanggar', 'memakan', 'membebaskan', 'membisu', 'menderu', 'menyambung', 'menyampaikan', 'menyelamatkan', 'nepuk', 'niat', 'padahal', 'pemberian', 'pentas', 'penting', 'perbuatan', 'rajuna', 'sebalik', 'sebatang', 'sempurna', 'separuh', 'sikap', 'singgahsana', 'sukar', 'tanggungjawab', 'terapung', 'terhebat', 'tetamu', '##00', '##af', '##aja', '##alang', '##amai', '##aman', '##anas', '##anmu', '##api', '##atur', '##bal', '##cung', '##dhu', '##dut', '##ebat', '##edia', '##elimuti', '##embur', '##erintah', '##ermain', '##erputus', '##gah', '##galkan', '##gangan', '##gil', '##iring', '##jamkan', '##jikan', '##kam', '##lahi', '##lat', '##lit', '##mbah', '##nam', '##oa', '##onyong', '##sak', '##sar', '##sir', '##tua', '##tung', '##ujud', '##ulat', '##yukur', 'akbar', 'alaikum', 'allahu', 'amaran', 'armada', 'asalnya', 'assalamu', 'baiklah', 'bala', 'barulah', 'begini', 'berbeza', 'berbual', 'beribadah', 'berikan', 'berlatih', 'bersatu', 'buta', 'dahinya', 'daya', 'dedaunan', 'diangkat', 'didengari', 'dikatakan', 'diperbuat', 'empat', 'gajah', 'ia', 'ingat', 'jahanam', 'jasad', 'jawapan', 'jeritan', 'kebaikan', 'ketar', 'melindungi', 'memberi', 'membuktikan', 'memilih', 'mengamalkan', 'menghadapi', 'mengiringi', 'menjangka', 'menunjuk', 'menusuk', 'menyebut', 'milik', 'mulia', 'nampak', 'pastinya', 'perang', 'pipi', 'rasulullah', 'sebilah', 'sepantas', 'suaranya', 'sudi', 'supaya', 'taala', 'tegas', 'tepi', 'terkenal', 'terketar', 'tersembunyi', 'tukang', '##adang', '##agu', '##aikan', '##aki', '##ala', '##angkan', '##apa', '##apan', '##arangan', '##aru', '##ati', '##ba', '##balan', '##bur', '##dahan', '##egil', '##ekang', '##elas', '##emani', '##empat', '##enangkan', '##er', '##erkenalkan', '##erombolan', '##etik', '##ib', '##julur', '##ksa', '##lai', '##latih', '##lima', '##matan', '##mbar', '##nnya', '##oda', '##ohon', '##osa', '##pah', '##ping', '##pung', '##qwa', '##sikan', '##sur', '##sya', '##tang', '##tiup', '##tuk', '##turunkan', '##ui', '##ullah', '##uman', '##umpukan', '##yah', '100', 'ayahandanya', 'batuk', 'belakangnya', 'berbaki', 'berduri', 'bergelar', 'bergelimpangan', 'berkata', 'berkemungkinan', 'berkongsi', 'bersamaku', 'bertapa', 'bertembung', 'biasanya', 'cakaran', 'cerita', 'cucuk', 'dekad', 'diiringi', 'emas', 'gadis', 'gagah', 'harta', 'istananya', 'jiwanya', 'kalimah', 'kegelapan', 'kehilangan', 'kemampuan', 'kemuliaan', 'keperluan', 'khurafat', 'lantas', 'latihan', 'libasan', 'luka', 'membetulkan', 'mengacukan', 'mengelilingi', 'menguasai', 'menjatuhkan', 'menjawab', 'menyambar', 'menyembunyikan', 'menyerah', 'nan', 'nanti', 'orangnya', 'penghujung', 'pergerakannya', 'perkarangan', 'perlindungan', 'persilatan', 'perubahan', 'petir', 'pimpinan', 'purnama', 'rakannya', 'rentang', 'sabar', 'sampaikan', 'sawar', 'sedar', 'sekian', 'semangat', 'semata', 'setia', 'sirna', 'subhanahu', 'subuh', 'surut', 'telunjuk', 'tempoh', 'terbelah', 'terdedah', 'terjun', 'tersendiri', 'terseret', 'ulah', 'unggun', '##ahi', '##angan', '##arap', '##arat', '##arut', '##ayang', '##bagai', '##banting', '##besar', '##bolehan', '##ca', '##cabar', '##cang', '##caya', '##cir', '##cut', '##dam', '##dar', '##dera', '##dur', '##ebas', '##eda', '##edang', '##egas', '##ekak', '##elah', '##ema', '##eman', '##emari', '##embah', '##emeluk', '##en', '##enang', '##engar', '##entikan', '##entuh', '##epuk', '##eras', '##ercik', '##erita', '##esat', '##et', '##ewa', '##f', '##gikan', '##guh', '##gul', '##hapuskan', '##harap', '##hi', '##ikirkan', '##ikuti', '##ina', '##jah', '##jam', '##jauhan', '##jung', '##katkan', '##kkal', '##kurangan', '##lar', '##leh', '##lengkapi', '##mam', '##musnahkan', '##ngkuh', '##ngnya', '##olah', '##olongan', '##opong', '##puh', '##rah', '##sakan', '##sang', '##sih', '##sihkan', '##syarat', '##takan', '##tas', '##terima', '##tusan', '##umpul', '##uskan', '##utan', '##yan', 'agung', 'ajaran', 'aman', 'ampuh', 'belantan', 'beralun', 'bergantung', 'berlawanan', 'berpusing', 'bersembunyi', 'bersiap', 'berterbangan', 'bertubuh', 'berwajah', 'bondanya', 'calang', 'dayang', 'dek', 'dialah', 'dianggap', 'dibenarkan', 'dirimu', 'enak', 'gagak', 'gerun', 'harapan', 'jangkaan', 'jenis', 'kakandanya', 'kalah', 'kecuali', 'kening', 'kotak', 'lari', 'letupan', 'lincah', 'liuk', 'medini', 'melekat', 'meliang', 'meluncur', 'membatu', 'membelah', 'memecut', 'memutarkan', 'menang', 'mengakibatkan', 'mengalihkan', 'mengepal', 'menghasilkan', 'menutup', 'moga', 'muka', 'namanya', 'nampaknya', 'pandai', 'pantai', 'pasangan', 'perihal', 'peristiwa', 'perlukan', 'perseteruan', 'pintu', 'rahsia', 'ratna', 'rimbunan', 'satunya', 'segalanya', 'seketika', 'sememangnya', 'semoga', 'serata', 'setapak', 'sibuk', 'susuk', 'syirik', 'terbatuk', 'terdapat', 'terganggu', 'tersekat', 'tongkatnya', '##!', '##,', '##-', '##.', '##1', '##2', '##3', '##4', '##5', '##6', '##7', '##8', '##9', '##:', '##;', '##?', '##c', '##e', '##j', '##o', '##q', '##v', '##w', '##y', '##z', '##\\u2003', '##‘', '##’']\n",
      "['[PAD]', '[UNK]', '[START]', '[END]', '!', \"'\", ',', '-', '.', '0', '1', '2', '3', '4', '5', '6', '7', '8', '9', ':', ';', '̦', '،', '؟', 'ء', 'آ', 'أ', 'ؤ', 'إ', 'ئ', 'ا', 'ب', 'ة', 'ت', 'ث', 'ج', 'ح', 'خ', 'د', 'ذ', 'ر', 'ز', 'س', 'ش', 'ص', 'ض', 'ط', 'ظ', 'ع', 'غ', 'ف', 'ق', 'ك', 'ل', 'م', 'ن', 'ه', 'و', 'ى', 'ي', 'َ', 'ُ', 'ِ', 'ّ', 'ْ', '٢', 'پ', 'چ', 'ڠ', 'ڤ', 'ک', 'ڬ', 'ڽ', 'ی', 'ۏ', 'ݢ', '\\u2003', '‘', '’', 'يڠ', 'دان', 'ايت', 'نيرنام', '##ڽ', 'دي', 'تيدق', 'دڠن', 'اكو', 'اڠكاو', '##كن', 'اين', 'مريک', '##ن', 'اونتوق', 'اكن', 'چندانا', 'جاڬت', 'سوچي', 'نديم', '##٢', 'كيت', 'ڤوتري', '##ي', 'تله', 'كڤد', 'ماهو', 'توانكو', 'تتاڤي', '##كو', '##له', 'لاڬي', 'دري', 'منجادي', 'علاءالدين', 'اديواج', 'سلطان', 'دوا', 'اورڠ', 'لبيه', 'اد', '##ا', '##ه', 'ڤوتيه', 'سوده', 'مات', 'تاڠن', 'اڤ', '##مو', '##ق', 'ڤد', 'توها', '##ت', 'هاڽ', 'ترسبوت', 'تنترا', 'درڤد', 'سموا', 'سموتر', 'جبت', 'كمودين', 'تروس', 'كالين', 'ممندڠ', 'بوكن', '##ڠ', 'كمبالي', 'الله', 'داڤت', 'توبوه', 'بسر', 'ماسيه', 'للاكي', 'دالم', 'اڤاكه', '##ر', 'مليهت', 'سدڠ', 'سهاج', 'ڤندڠن', 'كامي', 'ببراڤ', 'كران', 'كراجاءن', 'جنين', 'ديري', 'ساتو', 'كأره', 'سبلوم', 'براد', '##و', 'جوݢ', 'سمبيل', 'كايڠن', 'ڬونوڠ', 'ممڤو', 'تانه', 'راج', 'جک', 'اڤابيلا', 'سنتوبوڠ', 'ڤولا', 'كدوا', 'ممبواتكن', 'جلس', 'سنديري', 'واجه', '##ل', 'سام', 'ايندرا', 'بهاوا', '##م', 'برڬرق', 'ككندا', 'سأورڠ', 'ڤرلاهن', 'اوليه', 'ڤانتس', 'باڬاي', 'هاري', 'اوڠ', 'بوليه', 'ترسڽوم', 'سماكين', 'سباڬاي', 'تنڤا', 'سڠ', 'ماءنسي', 'باڬايكن', 'محمود', 'موڠكين', 'هاتي', 'ڤرلو', 'لاما', 'ڤنديكر', 'كالي', 'ليدڠ', 'سڤرتي', 'باڽق', 'تڠڬڠ', 'مولا', 'سراوا', 'باڬايمان', '##س', 'كتاوا', 'مها', 'مڠڠڬوق', 'باڬي', 'بڬيتو', 'ڤوترا', 'تاهو', 'ايستان', 'دأتس', 'سرڠن', 'كأداءن', 'منصور', 'ڤق', '##ڤ', 'برسام', 'تمڤت', 'توبوهڽ', 'لاهن', 'سيحير', 'مڠڠكت', 'مڠڬيليڠ', 'راماي', 'كتيک', 'ماس', 'اداله', 'نامون', 'سراڤي', 'سڽومن', 'تون', 'ڬورو', 'تياد', 'نيرمالا', 'سهيڠݢ', 'كريس', 'كادوق', 'اڠين', 'ڤنجڠ', 'سكارڠ', '##ءي', 'برديري', '##ان', 'دريا', 'ڤريتا', 'ڤون', 'چوبا', 'بارو', 'بردوا', 'تادي', 'ممبريكن', 'دسيني', 'كستوري', 'هاه', '##اكن', 'بڠكيت', 'بلوم', 'مک', 'نجوم', 'تيڠڬي', '##كه', 'سسواتو', 'كليهتن', 'ترلالو', 'لقسامان', '##ة', 'بنر', 'سكالي', 'سڬالا', '##سن', 'بوات', 'بودق', 'ساعت', 'سوارا', 'سوريا', 'مروڤاكن', '##اي', 'برسوارا', 'برڤاروت', 'كچيل', 'بنر٢', 'توا', 'كلمباي', 'مڠاڤ', 'ڤمرينته', '##وه', 'جاءوه', 'سقدر', 'برلاكو', 'ستياڤ', 'باءيق', 'داره', 'ڤرنه', '##وڠ', 'بهكن', 'كاي', 'ماتڽ', '##كت', 'اتاو', 'بيت', 'تڠه', 'هيدوڤ', 'چيق', 'ڤرمڤوان', '##رن', 'توروت', 'سي', 'تيݢ', 'سجينجڠ', 'سديكيت', 'سمڤت', 'لاون', 'مناريق', 'ڤاتيق', '##وت', 'امڤون', 'كاكي', 'كرا', 'لاءين', 'ماسيڠ٢', 'يا', '##يق', 'إسلام', 'انتارا', 'جاڠن', 'دهادڤن', 'ساليڠ', '##ون', '##ڠن', 'ملڤسكن', 'نفس', 'ڤنوه', 'بيبير', 'ككل', '##ک', 'تاڠنڽ', 'ديريڽ', 'ستله', 'اءير', 'برجاي', 'همڤير', 'ڤرڬي', 'جين', 'كڤالا', 'واجهڽ', 'ڤستي', 'تيبا', 'جادي', 'حال', 'داهي', 'سمنجق', 'سمڤاي', '##ءن', '##لن', 'دسيتو', 'سرنده', 'سنجات', 'قوات', 'جاتوه', 'داتڠ', 'رعيت', 'سكبون', 'كقواتن', 'كلوار', 'نام', '##ݢ', 'برساما', 'ترتاوا', 'توان', 'دتڠه', 'دسيسي', 'سريڠ', 'سمننجوڠ', 'كدڠرن', 'مڠيلق', '##تن', '##وڤ', '##ري', '##من', 'بنداهارا', 'بيچارا', 'تيبا٢', 'سلوروه', 'سڬنتيڠ', 'مونچول', '##اءن', 'دهولو', 'كاءين', 'نيڤيس', 'هيلڠ', '##د', '##وق', 'اورڠ٢', 'دواڽ', 'ممبنتو', 'ڤلواڠ', '##تو', '##تي', 'بله', 'دورجان', 'ممباوا', 'مڠهادڤ', 'اڤي', 'اڬر', 'باهو', 'برهادڤن', 'سكيراڽ', 'ممبوک', 'اتس', 'انق', 'ايهندا', 'باڬق', 'براوسها', 'بهترا', 'سدميكين', 'سريكندي', 'كهادڤن', 'منومبڠكن', '##هن', 'تاهون', 'سيلت', 'منچاڤاي', 'ڤرجالنن', '##ور', '##يه', 'بنتالا', 'تورون', 'تڤت', 'جالق', 'سبنرڽ', 'كانن', 'ممندا', 'ڤارا', '##يت', '##ين', 'برهنتي', 'بياسا', 'تنڠ', 'سبهاڬين', 'سكيتر', 'سلاما', 'صلاة', 'كڤدڽ', 'مالم', 'منوليه', 'منيڠڬلكن', 'يقين', '##ب', '##سي', '##ير', 'اوتام', 'ترسڠيه', 'ترهنتي', 'جالن', 'سبنتر', 'كحاضيرن', 'ڤرتاروڠن', '##ام', '##ره', '##ني', 'انسان', 'برڤاكاين', 'تومبڠ', 'سرتا', 'ماتي', 'هيبت', 'ڤرتمڤورن', 'ڤندڠنڽ', '##نڽ', 'اره', 'برتاروڠ', 'بومي', 'حقيقتڽ', 'دهادڤنڽ', 'ممندڠكن', '##وان', 'اه', 'بڬيندا', 'تاجم', 'راس', 'سام٢', 'سبله', 'سمنتارا', 'كبلاكڠ', 'ليبر', 'منڤوق', 'ڤركامڤوڠن', '##تا', 'بربنديڠ', 'برڤاليڠ', 'تاميڠ', 'ددالم', 'ساري', 'سياڤا', 'عالم', 'ملاكوكن', 'هوبوڠن', '##دا', '##وس', 'اڬام', 'برتمو', 'برتوكر', 'بلاكڠ', 'تومبوقن', 'دمي', 'لالو', 'ملنچركن', 'ممبولت', 'مڠهنتر', '##جا', 'اوسها', 'بربيچارا', 'بوكنكه', 'ساله', 'سچارا', 'منريما', 'چهاي', '##اري', '##ركن', 'ايبو', 'بركروت', 'تندڠن', 'كاسيه', 'ملومڤت', 'منداڤتكن', 'مودا', 'مڠڬوناكن', 'مڽنتوه', 'مڽڠک', 'ڤاكاين', 'ڤرڬرقن', 'ڤولڠ', '##قن', '##كڤ', 'اخيرڽ', 'تريما', 'جيوا', 'سبواه', 'سمبه', 'كماري', 'منجاديكن', 'موسوه', 'والاو', '##اس', '##جق', '##ڬڠ', 'اڠڬوق', 'اڤ٢', 'براني', 'برسديا', 'تتڤ', 'تمبه', 'تيندقن', 'تيڠڬل', 'دليهت', 'سواسان', 'سڤنجڠ', 'شيطان', 'مراساكن', 'مندڠر', 'والاوڤون', 'ڤوڽا', 'ڤڤرڠن', '##هكن', 'اول', 'ايتله', 'تركجوت', 'ستروسڽ', 'علمو', 'فيكير', 'كاميت', 'ممرهاتيكن', 'ممنوهي', 'ممڤوڽاءي', 'منچله', 'مولوت', 'مڠمبيل', 'ناءيق', 'هاڽله', 'ڤوكوق', '##ڠكن', 'باكل', 'توجوان', 'سربا', 'سمولا', 'كاوسن', 'موده', 'ميمڠ', 'مڽببكن', 'چوكوڤ', '##اءي', '##را', '##لا', '##ولڠ', '##ڬق', 'امت', 'اوروسن', 'برڤندڠن', 'تركومت', 'توق', 'دادا', 'راتو', 'روڤا', 'سبڬيني', 'كأتس', 'كڤدكو', 'لڠسوڠ', 'ممينتا', 'ممڤاميركن', 'هيڠݢ', 'ڤڠليما', '##تڠ', '##نا', '##ڠک', 'اوجوڠ', 'براوبه', 'برتاهن', 'بركواس', 'سلڤس', 'سنتياس', 'لمبوت', 'ليم', 'منجاݢ', 'مڽرڠ', 'هندق', 'ڽات', '##0', '##ارا', '##بت', '##دو', '##دوڠ', '##رو', '##قڽ', '##مت', '##نن', '##ينا', '##ڤو', 'ايوه', 'تڠكس', 'حاصيل', 'دنيا', 'سبنر', 'سڬرا', 'كيري', 'مننتي', 'موجور', '##ات', '##اڠ', '##جي', '##كول', '##يڽ', 'ترلبيه', 'تندا', 'دباوه', 'سكالا', 'سمواڽ', 'سڠک', 'كامڤوڠ', 'كبنرن', 'كلبيهن', 'لاءوت', 'ملڤسي', 'مڠهيلا', 'ڤهلاون', '##اݢ', '##تكن', '##ده', '##يتا', '##يڠ', 'اديندا', 'توهن', 'دودوق', 'رومبوڠن', 'لاجو', 'منوندوق', 'واجر', 'واهاي', 'ڬوروڽ', 'ڽاوا', '##اق', '##بر', '##جر', '##در', '##ڤا', 'القرءان', 'برهمڤيرن', 'بهاڬين', 'تراڠڬوق', 'تلڤق', 'جاري', 'دبلاكڠ', 'دڠنڽ', 'رواڠ', 'عاقبة', 'كاكيڽ', 'كتانه', 'كڤالاڽ', 'لاكوكن', 'لڠكه', 'ملايڠ', 'ملڠكه', 'منمبه', 'منولق', 'مڠهالڠ', 'هيتم', 'ولايه', 'چلاک', 'چينتا', 'ڤرتام', 'ڤمرينتهن', 'ڬوا', '##اڽ', '##بق', '##بوه', '##ديڠ', '##سا', '##يس', 'باتو', 'برتيندق', 'برتيݢ', 'بلنتارا', 'بيبيرڽ', 'تراخير', 'ترڤقسا', 'دمكين', 'رومه', 'سسياڤا', 'لڠكهن', 'مانكالا', 'مڽاتاكن', 'ڤرجواڠن', 'ڤركاس', 'ڬلڤ', '##ابوڠ', '##اڤ', '##بوس', '##دڠ', '##مڤور', '##وا', '##وم', '##يكن', '##يلا', '##ڤت', '##ڤق', '##ڤكن', '##ڤون', 'اهلي', 'ايم', 'اڬق', 'بربوات', 'بوكنله', 'بوڽي', 'تبل', 'ترڤلنتيڠ', 'حاضير', 'ردوڤ', 'رياق', 'سرايا', 'كسقتين', 'لاڠيت', 'ماسوق', 'مناتڤ', 'مندارت', 'منچاري', 'مڠتاهوءي', 'مڽمبوت', 'ڤركارا', 'ڤرهاتين', 'ڤندودوق', '##اوا', '##كم', '##لاي', '##مبه', '##وروس', '##ونكن', '##ڤس', '##ڤن', 'اسڤ', 'اياله', 'برجالن', 'برڬڬر', 'ترسنتق', 'تق', 'تڠݢ', 'حتى', 'سكليليڠ', 'سليندڠ', 'كامو', 'كدالم', 'كمنڠن', 'كڤدمو', 'لنتاي', 'ممبياركن', 'مولوتڽ', 'مڽدري', 'چڤت٢', 'ڤرانچڠن', 'ڤڠاول', 'ڬابوڠن', '##اهير', '##تيكن', '##تڽ', '##ديق', '##لوق', '##ليه', '##مه', '##ڬو', 'ايات', 'اينده', 'براوندور', 'برسياݢ', 'ترهادڤ', 'تمبهن', 'دمکين', 'سأكن', 'سباڬايمان', 'سرنتق', 'كلاڤ', 'كلق', 'كيني', 'لواس', 'لڠن', 'مانيس', 'محمد', 'مراڤتي', 'ملورو', 'مليبس', 'ممباچ', 'ممرهاتي', 'منجريت', 'مندڠوس', 'ميدن', 'مڠمبارا', 'مڬه', 'وقتو', 'ڬاڤورا', '##الا', '##دن', '##دوق', '##ريڠ', '##عة', '##ف', '##كنڽ', '##لكن', '##لم', '##وكن', '##ول', '##ونن', '##چه', 'انچمن', 'باريسن', 'برتاڽ', 'بواه', 'تاوا', 'تربوک', 'تروجا', 'تناݢ', 'تنترا٢', 'خبر', 'دڤا', 'رنده', 'روڤاون', 'ريساو', 'ساڠت', 'سسوڠڬوهڽ', 'كودا', 'مستحيل', 'مڠهمڤيري', 'مڽرتاءي', 'ڤربوالن', 'ڤنومبوق', '##اروڠ', '##اه', '##تق', '##ته', '##جاݢ', '##كاو', '##كي', '##وقن', '##يله', '##ڬي', 'اودارا', 'ايكور', 'بالس', 'برتاءوت', 'برتمبه', 'بنتوان', 'ترباءيق', 'جين٢', 'دندم', 'رسول', 'سدرهان', 'سسام', 'سقتي', 'سكالين', 'سواتو', 'كأرهڽ', 'كواس', 'مان', 'ملاءوڠ', 'ممرلوكن', 'مڠلواركن', 'مڽربو', 'ڤاليڠ', 'ڤلابوهن', '##اج', '##ارڤ', '##با', '##رڠ', '##كر', '##كور', '##كوق', '##ن٢', '##يرن', '##ڤسكن', 'اڤاته', 'برت', 'بسي', 'بوندا', 'تاكوت', 'توڠكت', 'تيدور', 'حاجة', 'حرمت', 'حمزه', 'دسان', 'قيصه', 'كبومي', 'كلم', 'كليواڠ', 'كنچيل', 'ممستيكن', 'ممڬڠ', 'منداڤت', 'مننتڠ', 'موليا', 'مڠيكوري', 'نن', 'چارا', 'ڤراساءن', '##اتي', '##ارت', '##ارو', '##توڠ', '##دي', '##لت', '##مکن', '##وبي', '##ڤوڠ', '##ڬر', 'اولر', 'اينله', 'بتاڤ', 'برلڠسوڠ', 'برمولا', 'تراڠكت', 'ترڤان', 'توندوق', 'جلاتا', 'حيوان', 'دبريكن', 'سبارڠ', 'سيتي', 'كات٢', 'كبياساءن', 'مشهور', 'مڠسا', 'هولو', 'ڤيڠڬڠ', 'ڬراهم', '##اء', '##اسر', '##الي', '##اون', '##بن', '##بو', '##بڠ', '##تاي', '##سوق', '##قكن', '##لاتيه', '##لس', '##مبڠ', '##مبڠكن', '##متكن', '##ندا', '##نكن', '##هڽ', '##ورڠ', '##ولوه', '##ومبق', '##يم', '##چي', '##ڠكت', '##ڤي', '##ڤيت', 'ارت', 'انته', 'اوله', 'برجواڠ', 'برسأورڠن', 'برلاري', 'بيريڠ', 'بيلڠن', 'تربڠ', 'ترڤمڤن', 'ترڤيڠا', 'دسكيتر', 'سنڠ', 'سڤاتوتڽ', 'صحابة', 'عبارت', 'كأيستان', 'كساكيتن', 'كواجه', 'كوناني', 'كچدراءن', 'ماكنن', 'مليبر', 'مليمڤركن', 'ممبالس', 'ممبوات', 'ممبينا', 'مڠهياسي', 'مڠهيلڠ', 'مڠڬرقكن', 'ڤمودا', 'ڤيڠا', '##دق', '##روه', '##سكن', '##كا', '##كودا', '##مي', '##نجق', '##واس', '##وجو', '##وركن', '##وڠڬوه', '##يهن', '##چاي', '##چم', '##ڤوان', 'السلام', 'ايذين', 'باءو', 'باتڠ', 'برمعنا', 'بولن', 'توجوه', 'تيواس', 'جارڠ', 'جليتا', 'حقيقة', 'دباوا', 'دسمڤادن', 'دسيسيڽ', 'ديام', 'رمبوت', 'سايمبارا', 'سني', 'سوک', 'سيني', 'عباده', 'عقل', 'ككواساءن', 'كهيدوڤن', 'كورڠ', 'ماسڽ', 'ماچم', 'ممبسر', 'ممبونوه', 'ممهمي', 'ممڤرتاهنكن', 'منالاكن', 'منجارقكن', 'منروسكن', 'منرڤا', 'منعمتي', 'منڤيس', 'موت', 'مڠوبه', 'مڠوكير', 'نفسڽ', 'ڤارڠ', 'ڤرتمبوڠن', 'ڤولاي', '##اكو', '##بايكن', '##بركن', '##بوت', '##بڠن', '##تس', '##داءن', '##رديام', '##سان', '##ست', '##كق', '##كهن', '##كيت', '##لاين', '##ما', '##مبارا', '##نكو', '##وات', '##وري', '##وسوق', '##وسيا', '##ولو', '##ياركن', '##يبس', '##يرا', '##چابوت', '##چر', '##چق', '##چور', '##ڠݢ', 'اصل', 'انكوس', 'بانڠ', 'برأخير', 'براڤ', 'بردسير', 'بردكه', 'برستوجو', 'بركناءن', 'بركومڤول', 'بركڤول', 'برڤوتر', 'بيارله', 'تتكالا', 'تراس', 'تربلالق', 'تربنم', 'تليڠا', 'جاروم', 'جاهت', 'داكو', 'دسكليليڠ', 'دكه', 'دلوار', 'دهنتر', 'راڤت', 'سبب', 'سبهاڬينڽ', 'سقوات', 'سلاءين', 'سلامت', 'سميڠڬو', 'سوءالن', 'سيا٢', 'سينيس', 'سڤرڬوروانڽ', 'سڤولوه', 'سڽوم', 'كابوت', 'كاڬوم', 'كساتو', 'كناڤ', 'كڤول', 'مارا', 'ماكن', 'مميمڤين', 'منونايكن', 'ميت', 'ميره', 'مڠاول', 'مڠوروسكن', 'هاتيڽ', 'واه', 'ڤراسن', 'ڬمبيرا', '##اله', '##او', '##اڠن', '##توه', '##حرمت', '##ديا', '##رهكن', '##كليڤ', '##لاكن', '##مكن', '##مڤت', '##مڤين', '##نتارا', '##نچق', '##وروت', '##ولي', '##وهي', '##ينن', '##يڠن', '##چوڠ', '##چيڠ', '##ڠ٢', '##ڤه', '##کو', '##ڬن', '##ڬوڤ', '##ڬڠن', 'اخير', 'انق٢', 'باجو', 'بالا', 'بانون', 'باڠون', 'برتنڠ', 'برفيكير', 'بركاءيت', 'تراتق', 'ترماسوق', 'تقكن', 'تڠݢڠ', 'تڬڠ', 'جوا', 'دروان', 'روڤاڽ', 'سإيكور', 'سريبو', 'سكومڤولن', 'سڤنوه', 'كأودارا', 'كات', 'كراس', 'كريسڽ', 'كمس', 'كموڠكينن', 'كنچڠ', 'كوسوڠ', 'كومڤولن', 'لمه', 'ليهت', 'مشاركت', 'ملاريكن', 'ملوتوت', 'ممبنركن', 'مناهن', 'منجمڤوت', 'مندوڠاق', 'مندڤڠكن', 'مڠتڤ', 'مڠجر', 'مڠروتكن', 'مڠهنتم', 'مڠڠڬڤ', 'مڠڬمبركن', 'مڽمڤورناكن', 'هولوبالڠ', 'ڤانه', 'ڤونچق', 'ڬاڬل', '##اقي', '##الڠ', '##انس', '##اهن', '##اين', '##ايو', '##باسهي', '##بل', '##بوڠ', '##تاڠن', '##ترا', '##ح', '##دم', '##ديكن', '##راڠن', '##كد', '##كراجاءن', '##كوت', '##لايركن', '##لتقكن', '##لون', '##ليڠ', '##ماي', '##مبور', '##ه٢', '##ود', '##ومت', '##وک', '##ى', '##يحت', '##يريڠ', '##يسا', '##يسي', '##يوڠ', '##يک', '##ڠي', '##ڬس', '##ڬوناكن', '##ڬونوڠ', 'انقندا', 'اي', 'ايڠين', 'باهوڽ', 'باڬوس', 'بتول٢', 'بربينچڠ', 'برساممو', 'برڬوليڠ', 'بوروق', 'بولتن', 'بيلا', 'تاهڤ', 'تتامو', 'تختا', 'تراڤوڠ', 'ترهيبت', 'توهان', 'تڠݢوڠجواب', 'دامر', 'درس', 'دسباليق', 'دڠنكو', 'راجونا', 'راكن', 'رزقي', 'روڠݢ', 'سباتڠ', 'سمڤايكن', 'سمڤورنا', 'سوكر', 'سيكڤ', 'سڽڤ', 'كالڠن', 'كاننڽ', 'كايو', 'كباڽقن', 'كتمڤت', 'كريڠت', 'ككاياءن', 'كڤوتوسن', 'لوتوت', 'مارق', 'مرتا', 'ملالوءي', 'ملاک', 'ملڠڬر', 'مماكن', 'ممبيبسكن', 'ممبيسو', 'ممڤوس', 'مندرو', 'منيواسكن', 'مڽلامتكن', 'مڽمبوڠ', 'مڽمڤايكن', 'نمڤق', 'نية', 'هادڤن', 'وتعالى', 'ڤدحال', 'ڤربواتن', 'ڤنتيڠ', 'ڤوست', 'ڬارڠ', 'ڬالق', 'ڬرق', 'ڬلڠڬڠ', '##00', '##الن', '##اموق', '##اڤن', '##باكر', '##بتكن', '##بتن', '##برن', '##بولن', '##بونوه', '##بيق', '##بيل', '##توت', '##تيق', '##جت', '##جوق', '##ريت', '##رڤوتوس', '##سڬنتيڠ', '##كوه', '##كوڠ', '##كڠ', '##ليموتي', '##لڠ', '##ماءين', '##مس', '##مڤر', '##نتڠ', '##نمو', '##وار', '##ورق', '##يما', '##ڠكه', '##ڠكڤ', '##ڠڬيل', '##ڤلابوهن', '##ڤوق', '##ڬلكن', '##ڬين', '##ڬڤ', '##ڽوڠ', 'ارماد', 'اصلڽ', 'اكبر', 'امرن', 'امڤت', 'ايڠت', 'باءيقله', 'باروله', 'باوه', 'برإيمان', 'بربوال', 'بربيذا', 'برساتو', 'برعباده', 'برلاتيه', 'بريكن', 'بوتا', 'بڬيني', 'ترسمبوڽي', 'تركنل', 'توكڠ', 'تڬس', 'جريتن', 'جواڤن', 'دأڠكت', 'داداڽ', 'داهيڽ', 'داي', 'ددڠري', 'دكاتاكن', 'دمان', 'دميدن', 'دهوجوڠ', 'دياله', 'دڤربوات', 'دڤركامڤوڠن', 'راكنڽ', 'ساور', 'سبحانه', 'سبيله', 'ستيا', 'سواراڽ', 'سودي', 'سوسوق', 'سوڤاي', 'سيڠڬهسان', 'عليكم', 'كالاو', 'مليندوڠي', 'ممباساهي', 'ممبري', 'ممبوقتيكن', 'مميليه', 'منوسوق', 'منونجوق', 'ميليق', 'مڠهادڤي', 'مڠيريڠي', 'مڽبوت', 'ننتي', 'نڤوق', 'هابيس', 'ڤدڬڠ', 'ڤرڠ', 'ڤستيڽ', '##ءنڽ', '##ءوت', '##ادڠ', '##ار', '##اره', '##اكرن', '##بنتوق', '##به', '##تل', '##تورونكن', '##توڤ', '##تيڠڬي', '##جولور', '##حمة', '##دهكن', '##راسا', '##روڠ', '##سقكن', '##سقن', '##سلم', '##قسا', '##ك', '##كاءن', '##كارڠن', '##كل', '##لالو', '##مان', '##ماني', '##ناءيقي', '##نت', '##هو', '##هي', '##واڠ', '##ودوڠ', '##وسه', '##ومن', '##ومڤوكن', '##وى', '##يبسن', '##يتي', '##يستان', '##يكو', '##يل', '##ينكن', '##چيق', '##ڬوت', 'استري', 'امان', 'امس', 'اورڠڽ', 'اوڠڬون', 'ايات٢', 'ايهنداڽ', 'اڬوڠ', 'باتوق', 'برباقي', 'برتاڤ', 'برتمبوڠ', 'بردوري', 'بركات', 'بركموڠكينن', 'بركوڠسي', 'برنية', 'برڬلر', 'برڬليمڤڠن', 'بلنتن', 'بياساڽ', 'ترامت', 'تربله', 'ترجون', 'تردده', 'ترسنديري', 'ترسيريت', 'تلونجوق', 'تيمڤوه', 'جهنم', 'جيواڽ', 'جڠكاءن', 'دأودارا', 'دولايه', 'ديكد', 'رنتڠ', 'سماڠت', 'سيرنا', 'سڬالاڽ', 'صبح', 'كباءيقن', 'كتيݢ', 'كتڤي', 'كدادا', 'كممڤوان', 'كهيلڠن', 'كڤرلوان', 'لاءوتن', 'لاتيهن', 'لنتس', 'ممبتولكن', 'منجاتوهكن', 'منجواب', 'منجڠک', 'موک', 'مڠاچوكن', 'مڠليليڠي', 'مڠواساءي', 'مڽمبر', 'مڽمبوڽيكن', 'هرتا', 'چوچوق', 'ڤتير', 'ڤراوبهن', 'ڤرسيلتن', 'ڤرليندوڠن', 'ڤرڬرقنڽ', 'ڤمبرين', 'ڤورنام', 'ڤيمڤينن', 'ڬاديس', 'ڬاڬه', '##إيندرا', '##اريس', '##اكر', '##ال', '##اڤاي', '##باڬاي', '##بنتيڠ', '##بوليهن', '##توا', '##جاءوهن', '##جوڠ', '##دور', '##ديني', '##رط', '##رق', '##رواڠ', '##عملكن', '##عمور', '##فيكن', '##قسيكن', '##كالي', '##كانن', '##كير', '##كيركن', '##كڽ', '##لارڠ', '##لاک', '##لر', '##لوت', '##لڠكڤي', '##ماس', '##متن', '##ملوق', '##مور', '##مير', '##مڠڽ', '##مڤا', '##مڤن', '##نتس', '##نتهكن', '##نتيڠ', '##نجوت', '##ندڠ', '##هاڤوسكن', '##هسيا', '##هم', '##هونوس', '##واي', '##وجين', '##ورة', '##وكل', '##ولوڠ', '##وما', '##ومڤول', '##وڠن', '##وڠڬو', '##يار', '##يب', '##يكت', '##يكير', '##يلت', '##ينيق', '##چ', '##چابر', '##چوت', '##چير', '##چيقن', '##چڠ', '##ڠڬڤ', '##ڤنتس', '##ڤوه', '##ڤيڠ', '##ڤڠهوجوڠ', '##ڬول', '##ڬيل', '##ڽاءن', '100', 'اجرن', 'امڤوه', 'اوتوسن', 'ببولا', 'برتربڠن', 'برتوبوه', 'برسمبوڽي', 'برسياڤ', 'برلاونن', 'برواجه', 'بريتا', 'برڤوسيڠ', 'برڬنتوڠ', 'بونداڽ', 'ترباتوق', 'ترداڤت', 'ترسكت', 'تركتر', 'ترڬڠڬو', 'توڠكتڽ', 'جاڬوه', 'جنيس', 'دباليق', 'دبلاكڠڽ', 'دبنركن', 'دبو', 'دتانه', 'دتمڤت', 'درڤدڽ', 'دهياسي', 'ديريمو', 'ذيكير', 'رتنا', 'ريمبونن', 'ريوه', 'ساتوڽ', 'ستاڤق', 'سكتيک', 'سكين', 'سوڠاي', 'سيبوق', 'شرط٢', 'شيريک', 'كاله', 'كتر', 'كسلوروه', 'كسيسي', 'ككنداڽ', 'ككيري', 'كلام', 'كمولياءن', 'كنيڠ', 'كوتق', 'كچوالي', 'كڬلاڤن', 'لاري', 'لتوڤن', 'لينچه', 'ليوق', 'ماري', 'مجليس', 'مسجد', 'ملكت', 'ممباتو', 'ممبله', 'ممنجڠكن', 'مموتركن', 'ممچوت', 'منوتوڤ', 'منڠ', 'ميمڤي', 'مڠاليهكن', 'مڠحاصيلكن', 'مڠڤل', 'نامڽ', 'نمڤقڽ', 'هارڤن', 'هلامن', 'ڤاسڠن', 'ڤاكاينڽ', 'ڤدڠ', 'ڤرلوكن', 'ڤريحال', 'ڤريستيوا', 'ڤنتاي', 'ڤنتس', 'ڤنداي', 'ڬاڬق', 'ڬرون', 'ڬليتا', '##!', \"##'\", '##,', '##-', '##.', '##1', '##2', '##3', '##4', '##5', '##6', '##7', '##8', '##9', '##:', '##;', '##̦', '##،', '##؟', '##ء', '##آ', '##أ', '##ؤ', '##إ', '##ئ', '##ث', '##ج', '##خ', '##ذ', '##ز', '##ش', '##ص', '##ض', '##ط', '##ظ', '##ع', '##غ', '##َ', '##ُ', '##ِ', '##ّ', '##ْ', '##پ', '##ڬ', '##ی', '##ۏ', '##\\u2003', '##‘', '##’']\n",
      "1818\n",
      "1764\n"
     ]
    }
   ],
   "source": [
    "# print(spa_samples)\n",
    "# print(eng_samples)\n",
    "print(spa_vocab)\n",
    "print(eng_vocab)\n",
    "print(len(eng_vocab))\n",
    "print(len(spa_vocab))"
   ]
  },
  {
   "cell_type": "markdown",
   "metadata": {
    "id": "RAM8TLESpXbj"
   },
   "source": [
    "Let's see some tokens!"
   ]
  },
  {
   "cell_type": "code",
   "execution_count": 11,
   "metadata": {
    "id": "47D1jIqXpXbj"
   },
   "outputs": [
    {
     "name": "stdout",
     "output_type": "stream",
     "text": [
      "English Tokens:  ['كيت', 'ڤوتري', '##ي', 'تله', 'كڤد', 'ماهو', 'توانكو', 'تتاڤي', '##كو', '##له']\n",
      "Spanish Tokens:  ['benar', 'tuha', 'hanya', 'daripada', 'semutar', 'tersebut', 'semua', 'jebat', 'arah', 'kemudian']\n"
     ]
    }
   ],
   "source": [
    "print(\"English Tokens: \", eng_vocab[100:110])\n",
    "print(\"Spanish Tokens: \", spa_vocab[100:110])"
   ]
  },
  {
   "cell_type": "markdown",
   "metadata": {
    "id": "Xb21YLmSpXbj"
   },
   "source": [
    "Now, let's define the tokenizers. We will configure the tokenizers with the\n",
    "the vocabularies trained above."
   ]
  },
  {
   "cell_type": "code",
   "execution_count": 12,
   "metadata": {
    "id": "-SlNLq68pXbk"
   },
   "outputs": [],
   "source": [
    "eng_tokenizer = keras_nlp.tokenizers.WordPieceTokenizer(\n",
    "    vocabulary=eng_vocab, lowercase=False\n",
    ")\n",
    "spa_tokenizer = keras_nlp.tokenizers.WordPieceTokenizer(\n",
    "    vocabulary=spa_vocab, lowercase=False\n",
    ")"
   ]
  },
  {
   "cell_type": "markdown",
   "metadata": {
    "id": "tIYJmy8TpXbk"
   },
   "source": [
    "Let's try and tokenize a sample from our dataset! To verify whether the text has\n",
    "been tokenized correctly, we can also detokenize the list of tokens back to the\n",
    "original text."
   ]
  },
  {
   "cell_type": "code",
   "execution_count": 13,
   "metadata": {
    "id": "B5LlorHTpXbk"
   },
   "outputs": [
    {
     "name": "stdout",
     "output_type": "stream",
     "text": [
      "English sentence:  اكو هاڽ ممرلوكن اڠكاو بربوات ساتو كسيلاڤن!  جالق بنتالا ماجو اونتوق لبيه مڠهمڤيري نيرنام. \n",
      "Tokens:  tf.Tensor(\n",
      "[ 87 132 921  88 770 165  52 469 613 797   4 449 446  54 926 169  93 118\n",
      " 888  82   8], shape=(21,), dtype=int32)\n",
      "Recovered text after detokenizing:  tf.Tensor(b'\\xd8\\xa7\\xd9\\x83\\xd9\\x88 \\xd9\\x87\\xd8\\xa7\\xda\\xbd \\xd9\\x85\\xd9\\x85\\xd8\\xb1\\xd9\\x84\\xd9\\x88\\xd9\\x83\\xd9\\x86 \\xd8\\xa7\\xda\\xa0\\xd9\\x83\\xd8\\xa7\\xd9\\x88 \\xd8\\xa8\\xd8\\xb1\\xd8\\xa8\\xd9\\x88\\xd8\\xa7\\xd8\\xaa \\xd8\\xb3\\xd8\\xa7\\xd8\\xaa\\xd9\\x88 \\xd9\\x83\\xd8\\xb3\\xd9\\x8a\\xd9\\x84\\xd8\\xa7\\xda\\xa4\\xd9\\x86 ! \\xd8\\xac\\xd8\\xa7\\xd9\\x84\\xd9\\x82 \\xd8\\xa8\\xd9\\x86\\xd8\\xaa\\xd8\\xa7\\xd9\\x84\\xd8\\xa7 \\xd9\\x85\\xd8\\xa7\\xd8\\xac\\xd9\\x88 \\xd8\\xa7\\xd9\\x88\\xd9\\x86\\xd8\\xaa\\xd9\\x88\\xd9\\x82 \\xd9\\x84\\xd8\\xa8\\xd9\\x8a\\xd9\\x87 \\xd9\\x85\\xda\\xa0\\xd9\\x87\\xd9\\x85\\xda\\xa4\\xd9\\x8a\\xd8\\xb1\\xd9\\x8a \\xd9\\x86\\xd9\\x8a\\xd8\\xb1\\xd9\\x86\\xd8\\xa7\\xd9\\x85 .', shape=(), dtype=string)\n",
      "\n",
      "Spanish sentence:   aku hanya memerlukan engkau berbuat satu kesilapan!   jalak bentala maju untuk lebih menghampiri nirnama.\n",
      "Tokens:  tf.Tensor(\n",
      "[  58  102  887   60  755  122   59  455  596  634    4  419  426   33\n",
      "  125 1754  141   65   90  850   52    7], shape=(22,), dtype=int32)\n",
      "Recovered text after detokenizing:  tf.Tensor(b'aku hanya memerlukan engkau berbuat satu kesilapan ! jalak bentala maju untuk lebih menghampiri nirnama .', shape=(), dtype=string)\n"
     ]
    }
   ],
   "source": [
    "eng_input_ex = text_pairs[0][0]\n",
    "eng_tokens_ex = eng_tokenizer.tokenize(eng_input_ex)\n",
    "print(\"English sentence: \", eng_input_ex)\n",
    "print(\"Tokens: \", eng_tokens_ex)\n",
    "print(\n",
    "    \"Recovered text after detokenizing: \",\n",
    "    eng_tokenizer.detokenize(eng_tokens_ex),\n",
    ")\n",
    "\n",
    "print()\n",
    "\n",
    "spa_input_ex = text_pairs[0][1]\n",
    "spa_tokens_ex = spa_tokenizer.tokenize(spa_input_ex)\n",
    "print(\"Spanish sentence: \", spa_input_ex)\n",
    "print(\"Tokens: \", spa_tokens_ex)\n",
    "print(\n",
    "    \"Recovered text after detokenizing: \",\n",
    "    spa_tokenizer.detokenize(spa_tokens_ex),\n",
    ")"
   ]
  },
  {
   "cell_type": "markdown",
   "metadata": {
    "id": "dq2AzSWqpXbl"
   },
   "source": [
    "## Format datasets\n",
    "\n",
    "Next, we'll format our datasets.\n",
    "\n",
    "At each training step, the model will seek to predict target words N+1 (and beyond)\n",
    "using the source sentence and the target words 0 to N.\n",
    "\n",
    "As such, the training dataset will yield a tuple `(inputs, targets)`, where:\n",
    "\n",
    "- `inputs` is a dictionary with the keys `encoder_inputs` and `decoder_inputs`.\n",
    "`encoder_inputs` is the tokenized source sentence and `decoder_inputs` is the target\n",
    "sentence \"so far\",\n",
    "that is to say, the words 0 to N used to predict word N+1 (and beyond) in the target\n",
    "sentence.\n",
    "- `target` is the target sentence offset by one step:\n",
    "it provides the next words in the target sentence -- what the model will try to predict.\n",
    "\n",
    "We will add special tokens, `\"[START]\"` and `\"[END]\"`, to the input Spanish\n",
    "sentence after tokenizing the text. We will also pad the input to a fixed length.\n",
    "This can be easily done using `keras_nlp.layers.StartEndPacker`."
   ]
  },
  {
   "cell_type": "code",
   "execution_count": 14,
   "metadata": {
    "id": "-bcS-xaSpXbl"
   },
   "outputs": [],
   "source": [
    "\n",
    "def preprocess_batch(eng, spa):\n",
    "    batch_size = tf.shape(spa)[0]\n",
    "\n",
    "    eng = eng_tokenizer(eng)\n",
    "    spa = spa_tokenizer(spa)\n",
    "\n",
    "    # Pad `eng` to `MAX_SEQUENCE_LENGTH`.\n",
    "    eng_start_end_packer = keras_nlp.layers.StartEndPacker(\n",
    "        sequence_length=MAX_SEQUENCE_LENGTH,\n",
    "        pad_value=eng_tokenizer.token_to_id(\"[PAD]\"),\n",
    "    )\n",
    "    eng = eng_start_end_packer(eng)\n",
    "\n",
    "    # Add special tokens (`\"[START]\"` and `\"[END]\"`) to `spa` and pad it as well.\n",
    "    spa_start_end_packer = keras_nlp.layers.StartEndPacker(\n",
    "        sequence_length=MAX_SEQUENCE_LENGTH + 1,\n",
    "        start_value=spa_tokenizer.token_to_id(\"[START]\"),\n",
    "        end_value=spa_tokenizer.token_to_id(\"[END]\"),\n",
    "        pad_value=spa_tokenizer.token_to_id(\"[PAD]\"),\n",
    "    )\n",
    "    spa = spa_start_end_packer(spa)\n",
    "\n",
    "    return (\n",
    "        {\n",
    "            \"encoder_inputs\": eng,\n",
    "            \"decoder_inputs\": spa[:, :-1],\n",
    "        },\n",
    "        spa[:, 1:],\n",
    "    )\n",
    "\n",
    "\n",
    "def make_dataset(pairs):\n",
    "    eng_texts, spa_texts = zip(*pairs)\n",
    "    eng_texts = list(eng_texts)\n",
    "    spa_texts = list(spa_texts)\n",
    "    dataset = tf.data.Dataset.from_tensor_slices((eng_texts, spa_texts))\n",
    "    dataset = dataset.batch(BATCH_SIZE)\n",
    "    dataset = dataset.map(preprocess_batch, num_parallel_calls=tf.data.AUTOTUNE)\n",
    "    return dataset.shuffle(2048).prefetch(16).cache()\n",
    "\n",
    "\n",
    "train_ds = make_dataset(train_pairs)\n",
    "val_ds = make_dataset(val_pairs)"
   ]
  },
  {
   "cell_type": "markdown",
   "metadata": {
    "id": "OyNon_99pXbl"
   },
   "source": [
    "Let's take a quick look at the sequence shapes\n",
    "(we have batches of 64 pairs, and all sequences are 40 steps long):"
   ]
  },
  {
   "cell_type": "code",
   "execution_count": 15,
   "metadata": {
    "id": "_c0glmP1pXbm"
   },
   "outputs": [
    {
     "name": "stdout",
     "output_type": "stream",
     "text": [
      "inputs[\"encoder_inputs\"].shape: (64, 40)\n",
      "inputs[\"decoder_inputs\"].shape: (64, 40)\n",
      "targets.shape: (64, 40)\n"
     ]
    }
   ],
   "source": [
    "for inputs, targets in train_ds.take(1):\n",
    "    print(f'inputs[\"encoder_inputs\"].shape: {inputs[\"encoder_inputs\"].shape}')\n",
    "    print(f'inputs[\"decoder_inputs\"].shape: {inputs[\"decoder_inputs\"].shape}')\n",
    "    print(f\"targets.shape: {targets.shape}\")\n"
   ]
  },
  {
   "cell_type": "markdown",
   "metadata": {
    "id": "qJbOAK5VpXbm"
   },
   "source": [
    "## Building the model\n",
    "\n",
    "Now, let's move on to the exciting part - defining our model!\n",
    "We first need an embedding layer, i.e., a vector for every token in our input sequence.\n",
    "This embedding layer can be initialised randomly. We also need a positional\n",
    "embedding layer which encodes the word order in the sequence. The convention is\n",
    "to add these two embeddings. KerasNLP has a `keras_nlp.layers.TokenAndPositionEmbedding `\n",
    "layer which does all of the above steps for us.\n",
    "\n",
    "Our sequence-to-sequence Transformer consists of a `keras_nlp.layers.TransformerEncoder`\n",
    "layer and a `keras_nlp.layers.TransformerDecoder` layer chained together.\n",
    "\n",
    "The source sequence will be passed to `keras_nlp.layers.TransformerEncoder`, which\n",
    "will produce a new representation of it. This new representation will then be passed\n",
    "to the `keras_nlp.layers.TransformerDecoder`, together with the target sequence\n",
    "so far (target words 0 to N). The `keras_nlp.layers.TransformerDecoder` will\n",
    "then seek to predict the next words in the target sequence (N+1 and beyond).\n",
    "\n",
    "A key detail that makes this possible is causal masking.\n",
    "The `keras_nlp.layers.TransformerDecoder` sees the entire sequence at once, and\n",
    "thus we must make sure that it only uses information from target tokens 0 to N\n",
    "when predicting token N+1 (otherwise, it could use information from the future,\n",
    "which would result in a model that cannot be used at inference time). Causal masking\n",
    "is enabled by default in `keras_nlp.layers.TransformerDecoder`.\n",
    "\n",
    "We also need to mask the padding tokens (`\"[PAD]\"`). For this, we can set the\n",
    "`mask_zero` argument of the `keras_nlp.layers.TokenAndPositionEmbedding` layer\n",
    "to True. This will then be propagated to all subsequent layers."
   ]
  },
  {
   "cell_type": "code",
   "execution_count": 16,
   "metadata": {
    "id": "mW-KyXJGpXbm"
   },
   "outputs": [],
   "source": [
    "# Encoder\n",
    "encoder_inputs = keras.Input(shape=(None,), dtype=\"int64\", name=\"encoder_inputs\")\n",
    "\n",
    "x = keras_nlp.layers.TokenAndPositionEmbedding(\n",
    "    vocabulary_size=ENG_VOCAB_SIZE,\n",
    "    sequence_length=MAX_SEQUENCE_LENGTH,\n",
    "    embedding_dim=EMBED_DIM,\n",
    "    mask_zero=True,\n",
    ")(encoder_inputs)\n",
    "\n",
    "encoder_outputs = keras_nlp.layers.TransformerEncoder(\n",
    "    intermediate_dim=INTERMEDIATE_DIM, num_heads=NUM_HEADS\n",
    ")(inputs=x)\n",
    "encoder = keras.Model(encoder_inputs, encoder_outputs)\n",
    "\n",
    "\n",
    "# Decoder\n",
    "decoder_inputs = keras.Input(shape=(None,), dtype=\"int64\", name=\"decoder_inputs\")\n",
    "encoded_seq_inputs = keras.Input(shape=(None, EMBED_DIM), name=\"decoder_state_inputs\")\n",
    "\n",
    "x = keras_nlp.layers.TokenAndPositionEmbedding(\n",
    "    vocabulary_size=SPA_VOCAB_SIZE,\n",
    "    sequence_length=MAX_SEQUENCE_LENGTH,\n",
    "    embedding_dim=EMBED_DIM,\n",
    "    mask_zero=True,\n",
    ")(decoder_inputs)\n",
    "\n",
    "x = keras_nlp.layers.TransformerDecoder(\n",
    "    intermediate_dim=INTERMEDIATE_DIM, num_heads=NUM_HEADS\n",
    ")(decoder_sequence=x, encoder_sequence=encoded_seq_inputs)\n",
    "x = keras.layers.Dropout(0.5)(x)\n",
    "decoder_outputs = keras.layers.Dense(SPA_VOCAB_SIZE, activation=\"softmax\")(x)\n",
    "decoder = keras.Model(\n",
    "    [\n",
    "        decoder_inputs,\n",
    "        encoded_seq_inputs,\n",
    "    ],\n",
    "    decoder_outputs,\n",
    ")\n",
    "decoder_outputs = decoder([decoder_inputs, encoder_outputs])\n",
    "\n",
    "transformer = keras.Model(\n",
    "    [encoder_inputs, decoder_inputs],\n",
    "    decoder_outputs,\n",
    "    name=\"transformer\",\n",
    ")"
   ]
  },
  {
   "cell_type": "markdown",
   "metadata": {
    "id": "3BhES3uDpXbn"
   },
   "source": [
    "## Training our model\n",
    "\n",
    "We'll use accuracy as a quick way to monitor training progress on the validation data.\n",
    "Note that machine translation typically uses BLEU scores as well as other metrics,\n",
    "rather than accuracy. However, in order to use metrics like ROUGE, BLEU, etc. we\n",
    "will have decode the probabilities and generate the text. Text generation is\n",
    "computationally expensive, and performing this during training is not recommended.\n",
    "\n",
    "Here we only train for 1 epoch, but to get the model to actually converge\n",
    "you should train for at least 10 epochs."
   ]
  },
  {
   "cell_type": "code",
   "execution_count": 17,
   "metadata": {
    "id": "ymRrg6zXpXbn"
   },
   "outputs": [
    {
     "name": "stdout",
     "output_type": "stream",
     "text": [
      "Model: \"transformer\"\n",
      "__________________________________________________________________________________________________\n",
      " Layer (type)                   Output Shape         Param #     Connected to                     \n",
      "==================================================================================================\n",
      " encoder_inputs (InputLayer)    [(None, None)]       0           []                               \n",
      "                                                                                                  \n",
      " token_and_position_embedding (  (None, None, 256)   3850240     ['encoder_inputs[0][0]']         \n",
      " TokenAndPositionEmbedding)                                                                       \n",
      "                                                                                                  \n",
      " decoder_inputs (InputLayer)    [(None, None)]       0           []                               \n",
      "                                                                                                  \n",
      " transformer_encoder (Transform  (None, None, 256)   1315072     ['token_and_position_embedding[0]\n",
      " erEncoder)                                                      [0]']                            \n",
      "                                                                                                  \n",
      " model_1 (Functional)           (None, None, 15000)  9283992     ['decoder_inputs[0][0]',         \n",
      "                                                                  'transformer_encoder[0][0]']    \n",
      "                                                                                                  \n",
      "==================================================================================================\n",
      "Total params: 14,449,304\n",
      "Trainable params: 14,449,304\n",
      "Non-trainable params: 0\n",
      "__________________________________________________________________________________________________\n",
      "Epoch 1/10\n",
      "149/149 [==============================] - 19s 84ms/step - loss: 2.0038 - accuracy: 0.2771 - val_loss: 1.4543 - val_accuracy: 0.4229\n",
      "Epoch 2/10\n",
      "149/149 [==============================] - 11s 77ms/step - loss: 1.1967 - accuracy: 0.5321 - val_loss: 0.9615 - val_accuracy: 0.6100\n",
      "Epoch 3/10\n",
      "149/149 [==============================] - 12s 77ms/step - loss: 0.8111 - accuracy: 0.6706 - val_loss: 0.7330 - val_accuracy: 0.6919\n",
      "Epoch 4/10\n",
      "149/149 [==============================] - 11s 73ms/step - loss: 0.5747 - accuracy: 0.7561 - val_loss: 0.5798 - val_accuracy: 0.7518\n",
      "Epoch 5/10\n",
      "149/149 [==============================] - 12s 78ms/step - loss: 0.4208 - accuracy: 0.8136 - val_loss: 0.5089 - val_accuracy: 0.7752\n",
      "Epoch 6/10\n",
      "149/149 [==============================] - 11s 74ms/step - loss: 0.3219 - accuracy: 0.8510 - val_loss: 0.4837 - val_accuracy: 0.7898\n",
      "Epoch 7/10\n",
      "149/149 [==============================] - 11s 74ms/step - loss: 0.2525 - accuracy: 0.8788 - val_loss: 0.5104 - val_accuracy: 0.7810\n",
      "Epoch 8/10\n",
      "149/149 [==============================] - 11s 77ms/step - loss: 0.2067 - accuracy: 0.8984 - val_loss: 0.4116 - val_accuracy: 0.8236\n",
      "Epoch 9/10\n",
      "149/149 [==============================] - 11s 76ms/step - loss: 0.1663 - accuracy: 0.9156 - val_loss: 0.3960 - val_accuracy: 0.8283\n",
      "Epoch 10/10\n",
      "149/149 [==============================] - 11s 76ms/step - loss: 0.1392 - accuracy: 0.9281 - val_loss: 0.3953 - val_accuracy: 0.8362\n"
     ]
    },
    {
     "data": {
      "text/plain": [
       "<keras.callbacks.History at 0x2128b6c4280>"
      ]
     },
     "execution_count": 17,
     "metadata": {},
     "output_type": "execute_result"
    }
   ],
   "source": [
    "transformer.summary()\n",
    "transformer.compile(\n",
    "    \"rmsprop\", loss=\"sparse_categorical_crossentropy\", metrics=[\"accuracy\"]\n",
    ")\n",
    "transformer.fit(train_ds, epochs=EPOCHS, validation_data=val_ds)"
   ]
  },
  {
   "cell_type": "markdown",
   "metadata": {
    "id": "p1T1uEpQpXbn"
   },
   "source": [
    "## Decoding test sentences (qualitative analysis)\n",
    "\n",
    "Finally, let's demonstrate how to translate brand new English sentences.\n",
    "We simply feed into the model the tokenized English sentence\n",
    "as well as the target token `\"[START]\"`. The model outputs probabilities of the\n",
    "next token. We then we repeatedly generated the next token conditioned on the\n",
    "tokens generated so far, until we hit the token `\"[END]\"`.\n",
    "\n",
    "For decoding, we will use the `keras_nlp.samplers` module from\n",
    "KerasNLP. Greedy Decoding is a text decoding method which outputs the most\n",
    "likely next token at each time step, i.e., the token with the highest probability."
   ]
  },
  {
   "cell_type": "code",
   "execution_count": 20,
   "metadata": {
    "id": "6u5c34ecpXbo"
   },
   "outputs": [
    {
     "name": "stdout",
     "output_type": "stream",
     "text": [
      "** Example 0 **\n",
      "ڤد باهوڽ ترڤيكول امانه يڠ تيدق ريڠن. \n",
      "pada bahunya terpikul aman yang tidak ringan .\n",
      "\n",
      "** Example 1 **\n",
      "كيت ڤرلو بربينچڠ اڤ ڤرانچڠن كيت اونتوق مڽياست لاتر ڤوترا سراڤي. \n",
      "kita perlu berbincang apa perancangan kita untuk menyiasannya lat pert putera serapi .\n",
      "\n"
     ]
    }
   ],
   "source": [
    "\n",
    "def decode_sequences(input_sentences):\n",
    "    batch_size = tf.shape(input_sentences)[0]\n",
    "\n",
    "    # Tokenize the encoder input.\n",
    "    encoder_input_tokens = eng_tokenizer(input_sentences).to_tensor(\n",
    "        shape=(None, MAX_SEQUENCE_LENGTH)\n",
    "    )\n",
    "\n",
    "    # Define a function that outputs the next token's probability given the\n",
    "    # input sequence.\n",
    "    def next(prompt, cache, index):\n",
    "        logits = transformer([encoder_input_tokens, prompt])[:, index - 1, :]\n",
    "        # Ignore hidden states for now; only needed for contrastive search.\n",
    "        hidden_states = None\n",
    "        return logits, hidden_states, cache\n",
    "\n",
    "    # Build a prompt of length 40 with a start token and padding tokens.\n",
    "    length = 40\n",
    "    start = tf.fill((batch_size, 1), spa_tokenizer.token_to_id(\"[START]\"))\n",
    "    pad = tf.fill((batch_size, length - 1), spa_tokenizer.token_to_id(\"[PAD]\"))\n",
    "    prompt = tf.concat((start, pad), axis=-1)\n",
    "\n",
    "    generated_tokens = keras_nlp.samplers.GreedySampler()(\n",
    "        next,\n",
    "        prompt,\n",
    "        end_token_id=spa_tokenizer.token_to_id(\"[END]\"),\n",
    "        index=1,  # Start sampling after start token.\n",
    "    )\n",
    "    generated_sentences = spa_tokenizer.detokenize(generated_tokens)\n",
    "    return generated_sentences\n",
    "\n",
    "\n",
    "test_eng_texts = [pair[0] for pair in test_pairs]\n",
    "for i in range(2):\n",
    "    input_sentence = random.choice(test_eng_texts)\n",
    "    translated = decode_sequences(tf.constant([input_sentence]))\n",
    "    translated = translated.numpy()[0].decode(\"utf-8\")\n",
    "    translated = (\n",
    "        translated.replace(\"[PAD]\", \"\")\n",
    "        .replace(\"[START]\", \"\")\n",
    "        .replace(\"[END]\", \"\")\n",
    "        .strip()\n",
    "    )\n",
    "    print(f\"** Example {i} **\")\n",
    "    print(input_sentence)\n",
    "    print(translated)\n",
    "    print()"
   ]
  },
  {
   "cell_type": "code",
   "execution_count": 19,
   "metadata": {},
   "outputs": [
    {
     "name": "stdout",
     "output_type": "stream",
     "text": [
      "ساي ساكيت ڤروت\n",
      "saya sakit perut perut .\n"
     ]
    }
   ],
   "source": [
    "input_sentence = 'ساي ساكيت ڤروت'\n",
    "# input_sentence = 'ساي هاڽ ڬاديس كامڤوڠ.'\n",
    "# input_sentence = 'اوق دڠكي'\n",
    "# input_sentence = 'اوق دڠكي.'\n",
    "# input_sentence = 'saya sakit perut'\n",
    "# input_sentence = 'saya hanya gadis kampung.'\n",
    "translated = decode_sequences(tf.constant([input_sentence]))\n",
    "translated = translated.numpy()[0].decode(\"utf-8\")\n",
    "translated = (\n",
    "    translated.replace(\"[PAD]\", \"\")\n",
    "    .replace(\"[START]\", \"\")\n",
    "    .replace(\"[END]\", \"\")\n",
    "    .strip()\n",
    ")\n",
    "\n",
    "print(input_sentence)\n",
    "print(translated)"
   ]
  }
 ],
 "metadata": {
  "accelerator": "GPU",
  "colab": {
   "name": "neural_machine_translation_with_keras_nlp",
   "provenance": [],
   "toc_visible": true
  },
  "kernelspec": {
   "display_name": "Python 3",
   "language": "python",
   "name": "python3"
  },
  "language_info": {
   "codemirror_mode": {
    "name": "ipython",
    "version": 3
   },
   "file_extension": ".py",
   "mimetype": "text/x-python",
   "name": "python",
   "nbconvert_exporter": "python",
   "pygments_lexer": "ipython3",
   "version": "3.9.18"
  }
 },
 "nbformat": 4,
 "nbformat_minor": 0
}
